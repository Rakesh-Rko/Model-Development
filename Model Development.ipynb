{
 "cells": [
  {
   "cell_type": "code",
   "execution_count": 1,
   "id": "84f837f4-5689-447e-a913-612b1c6d9d06",
   "metadata": {},
   "outputs": [],
   "source": [
    "import pandas as pd\n",
    "import numpy as np\n",
    "import matplotlib.pyplot as plt"
   ]
  },
  {
   "cell_type": "code",
   "execution_count": 2,
   "id": "d8958299-3705-49b3-94b3-4dddd0186945",
   "metadata": {},
   "outputs": [],
   "source": [
    "path = 'https://cf-courses-data.s3.us.cloud-object-storage.appdomain.cloud/IBMDeveloperSkillsNetwork-DA0101EN-SkillsNetwork/labs/Data%20files/automobileEDA.csv'"
   ]
  },
  {
   "cell_type": "code",
   "execution_count": 3,
   "id": "28deb1b8-789c-4b10-8d11-293945f86507",
   "metadata": {},
   "outputs": [
    {
     "data": {
      "text/html": [
       "<div>\n",
       "<style scoped>\n",
       "    .dataframe tbody tr th:only-of-type {\n",
       "        vertical-align: middle;\n",
       "    }\n",
       "\n",
       "    .dataframe tbody tr th {\n",
       "        vertical-align: top;\n",
       "    }\n",
       "\n",
       "    .dataframe thead th {\n",
       "        text-align: right;\n",
       "    }\n",
       "</style>\n",
       "<table border=\"1\" class=\"dataframe\">\n",
       "  <thead>\n",
       "    <tr style=\"text-align: right;\">\n",
       "      <th></th>\n",
       "      <th>symboling</th>\n",
       "      <th>normalized-losses</th>\n",
       "      <th>make</th>\n",
       "      <th>aspiration</th>\n",
       "      <th>num-of-doors</th>\n",
       "      <th>body-style</th>\n",
       "      <th>drive-wheels</th>\n",
       "      <th>engine-location</th>\n",
       "      <th>wheel-base</th>\n",
       "      <th>length</th>\n",
       "      <th>...</th>\n",
       "      <th>compression-ratio</th>\n",
       "      <th>horsepower</th>\n",
       "      <th>peak-rpm</th>\n",
       "      <th>city-mpg</th>\n",
       "      <th>highway-mpg</th>\n",
       "      <th>price</th>\n",
       "      <th>city-L/100km</th>\n",
       "      <th>horsepower-binned</th>\n",
       "      <th>diesel</th>\n",
       "      <th>gas</th>\n",
       "    </tr>\n",
       "  </thead>\n",
       "  <tbody>\n",
       "    <tr>\n",
       "      <th>0</th>\n",
       "      <td>3</td>\n",
       "      <td>122</td>\n",
       "      <td>alfa-romero</td>\n",
       "      <td>std</td>\n",
       "      <td>two</td>\n",
       "      <td>convertible</td>\n",
       "      <td>rwd</td>\n",
       "      <td>front</td>\n",
       "      <td>88.6</td>\n",
       "      <td>0.811148</td>\n",
       "      <td>...</td>\n",
       "      <td>9.0</td>\n",
       "      <td>111.0</td>\n",
       "      <td>5000.0</td>\n",
       "      <td>21</td>\n",
       "      <td>27</td>\n",
       "      <td>13495.0</td>\n",
       "      <td>11.190476</td>\n",
       "      <td>Medium</td>\n",
       "      <td>0</td>\n",
       "      <td>1</td>\n",
       "    </tr>\n",
       "    <tr>\n",
       "      <th>1</th>\n",
       "      <td>3</td>\n",
       "      <td>122</td>\n",
       "      <td>alfa-romero</td>\n",
       "      <td>std</td>\n",
       "      <td>two</td>\n",
       "      <td>convertible</td>\n",
       "      <td>rwd</td>\n",
       "      <td>front</td>\n",
       "      <td>88.6</td>\n",
       "      <td>0.811148</td>\n",
       "      <td>...</td>\n",
       "      <td>9.0</td>\n",
       "      <td>111.0</td>\n",
       "      <td>5000.0</td>\n",
       "      <td>21</td>\n",
       "      <td>27</td>\n",
       "      <td>16500.0</td>\n",
       "      <td>11.190476</td>\n",
       "      <td>Medium</td>\n",
       "      <td>0</td>\n",
       "      <td>1</td>\n",
       "    </tr>\n",
       "    <tr>\n",
       "      <th>2</th>\n",
       "      <td>1</td>\n",
       "      <td>122</td>\n",
       "      <td>alfa-romero</td>\n",
       "      <td>std</td>\n",
       "      <td>two</td>\n",
       "      <td>hatchback</td>\n",
       "      <td>rwd</td>\n",
       "      <td>front</td>\n",
       "      <td>94.5</td>\n",
       "      <td>0.822681</td>\n",
       "      <td>...</td>\n",
       "      <td>9.0</td>\n",
       "      <td>154.0</td>\n",
       "      <td>5000.0</td>\n",
       "      <td>19</td>\n",
       "      <td>26</td>\n",
       "      <td>16500.0</td>\n",
       "      <td>12.368421</td>\n",
       "      <td>Medium</td>\n",
       "      <td>0</td>\n",
       "      <td>1</td>\n",
       "    </tr>\n",
       "    <tr>\n",
       "      <th>3</th>\n",
       "      <td>2</td>\n",
       "      <td>164</td>\n",
       "      <td>audi</td>\n",
       "      <td>std</td>\n",
       "      <td>four</td>\n",
       "      <td>sedan</td>\n",
       "      <td>fwd</td>\n",
       "      <td>front</td>\n",
       "      <td>99.8</td>\n",
       "      <td>0.848630</td>\n",
       "      <td>...</td>\n",
       "      <td>10.0</td>\n",
       "      <td>102.0</td>\n",
       "      <td>5500.0</td>\n",
       "      <td>24</td>\n",
       "      <td>30</td>\n",
       "      <td>13950.0</td>\n",
       "      <td>9.791667</td>\n",
       "      <td>Medium</td>\n",
       "      <td>0</td>\n",
       "      <td>1</td>\n",
       "    </tr>\n",
       "    <tr>\n",
       "      <th>4</th>\n",
       "      <td>2</td>\n",
       "      <td>164</td>\n",
       "      <td>audi</td>\n",
       "      <td>std</td>\n",
       "      <td>four</td>\n",
       "      <td>sedan</td>\n",
       "      <td>4wd</td>\n",
       "      <td>front</td>\n",
       "      <td>99.4</td>\n",
       "      <td>0.848630</td>\n",
       "      <td>...</td>\n",
       "      <td>8.0</td>\n",
       "      <td>115.0</td>\n",
       "      <td>5500.0</td>\n",
       "      <td>18</td>\n",
       "      <td>22</td>\n",
       "      <td>17450.0</td>\n",
       "      <td>13.055556</td>\n",
       "      <td>Medium</td>\n",
       "      <td>0</td>\n",
       "      <td>1</td>\n",
       "    </tr>\n",
       "  </tbody>\n",
       "</table>\n",
       "<p>5 rows × 29 columns</p>\n",
       "</div>"
      ],
      "text/plain": [
       "   symboling  normalized-losses         make aspiration num-of-doors  \\\n",
       "0          3                122  alfa-romero        std          two   \n",
       "1          3                122  alfa-romero        std          two   \n",
       "2          1                122  alfa-romero        std          two   \n",
       "3          2                164         audi        std         four   \n",
       "4          2                164         audi        std         four   \n",
       "\n",
       "    body-style drive-wheels engine-location  wheel-base    length  ...  \\\n",
       "0  convertible          rwd           front        88.6  0.811148  ...   \n",
       "1  convertible          rwd           front        88.6  0.811148  ...   \n",
       "2    hatchback          rwd           front        94.5  0.822681  ...   \n",
       "3        sedan          fwd           front        99.8  0.848630  ...   \n",
       "4        sedan          4wd           front        99.4  0.848630  ...   \n",
       "\n",
       "   compression-ratio  horsepower  peak-rpm city-mpg highway-mpg    price  \\\n",
       "0                9.0       111.0    5000.0       21          27  13495.0   \n",
       "1                9.0       111.0    5000.0       21          27  16500.0   \n",
       "2                9.0       154.0    5000.0       19          26  16500.0   \n",
       "3               10.0       102.0    5500.0       24          30  13950.0   \n",
       "4                8.0       115.0    5500.0       18          22  17450.0   \n",
       "\n",
       "  city-L/100km  horsepower-binned  diesel  gas  \n",
       "0    11.190476             Medium       0    1  \n",
       "1    11.190476             Medium       0    1  \n",
       "2    12.368421             Medium       0    1  \n",
       "3     9.791667             Medium       0    1  \n",
       "4    13.055556             Medium       0    1  \n",
       "\n",
       "[5 rows x 29 columns]"
      ]
     },
     "execution_count": 3,
     "metadata": {},
     "output_type": "execute_result"
    }
   ],
   "source": [
    "df = pd.read_csv(path)\n",
    "df.head()"
   ]
  },
  {
   "cell_type": "markdown",
   "id": "e174d993-eae5-4324-9817-4b9c24d73704",
   "metadata": {},
   "source": [
    "<h2> Linear Regression and Multiple Linear Regression </h2>"
   ]
  },
  {
   "cell_type": "markdown",
   "id": "7adf8660-065c-4208-a2d4-b8694875ccc6",
   "metadata": {},
   "source": [
    "<h4> Lineear Regression </h4>\n",
    "<p> Linear Regression is a method whcih helps us understand the relationship between two variables\n",
    "<ul>\n",
    "* The predictor / Independet vairable (X)\n",
    "* The reponse / dependent variable (Y)\n",
    "</ul>\n",
    "<br>\n",
    "The Linear Regression is a linear function the predicts reporse variable as a function of predictor variable.\n",
    "$$\n",
    " Linear Function: Yhat = a + b(X)\n",
    "$$\n",
    "   <li> a = intercept of the regression line i.e. The value of Y when X = 0 </li>\n",
    "    <li>b = the slope of regression line i.e. The value with which Y changes when X increase by 1 Unit</li></p>\n",
    "   "
   ]
  },
  {
   "cell_type": "code",
   "execution_count": 14,
   "id": "4083e657-fb9c-4f51-8e60-8a650d0ca40d",
   "metadata": {},
   "outputs": [],
   "source": [
    "## Loading Linear Regression\n",
    "from sklearn.linear_model import LinearRegression"
   ]
  },
  {
   "cell_type": "code",
   "execution_count": 15,
   "id": "76972449-07a0-4cd9-a5f2-670e35f4ad02",
   "metadata": {},
   "outputs": [
    {
     "data": {
      "text/plain": [
       "LinearRegression()"
      ]
     },
     "execution_count": 15,
     "metadata": {},
     "output_type": "execute_result"
    }
   ],
   "source": [
    "lm = LinearRegression()\n",
    "lm"
   ]
  },
  {
   "cell_type": "markdown",
   "id": "6471a623-2ea9-4695-b60d-628c239f49d1",
   "metadata": {},
   "source": [
    "<p><h4>How will highway-mpg will help us predict price of the car</h4><p>\n",
    "    Using Linear Regression we will create a linear function with 'highway-mpg' as the reponse variable and 'price' as the predictor variable\n"
   ]
  },
  {
   "cell_type": "code",
   "execution_count": 16,
   "id": "fe5dde51-7cad-4291-af0d-432b828ed802",
   "metadata": {},
   "outputs": [
    {
     "data": {
      "text/plain": [
       "LinearRegression()"
      ]
     },
     "execution_count": 16,
     "metadata": {},
     "output_type": "execute_result"
    }
   ],
   "source": [
    "X = df[['highway-mpg']]\n",
    "Y = df['price']\n",
    "\n",
    "# Fit the linear model using the highway-mpg\n",
    "lm.fit(X,Y)"
   ]
  },
  {
   "cell_type": "code",
   "execution_count": 17,
   "id": "08a25209-07c7-42da-a080-657675429c4a",
   "metadata": {},
   "outputs": [
    {
     "data": {
      "text/plain": [
       "array([16236.50464347, 16236.50464347, 17058.23802179, 13771.3045085 ,\n",
       "       20345.17153508])"
      ]
     },
     "execution_count": 17,
     "metadata": {},
     "output_type": "execute_result"
    }
   ],
   "source": [
    "Yhat = lm.predict(X)\n",
    "Yhat[0:5]"
   ]
  },
  {
   "cell_type": "code",
   "execution_count": 18,
   "id": "64b145d1-eb82-40ba-a5bc-341155cd9dd1",
   "metadata": {},
   "outputs": [
    {
     "data": {
      "text/plain": [
       "38423.3058581574"
      ]
     },
     "execution_count": 18,
     "metadata": {},
     "output_type": "execute_result"
    }
   ],
   "source": [
    "#Value of intercept a\n",
    "lm.intercept_"
   ]
  },
  {
   "cell_type": "code",
   "execution_count": 19,
   "id": "fb9e8446-a3bc-49b5-8dcf-70f378731429",
   "metadata": {},
   "outputs": [
    {
     "data": {
      "text/plain": [
       "array([-821.73337832])"
      ]
     },
     "execution_count": 19,
     "metadata": {},
     "output_type": "execute_result"
    }
   ],
   "source": [
    "# Value of the slope b\n",
    "lm.coef_"
   ]
  },
  {
   "cell_type": "markdown",
   "id": "643f2429-fe15-4073-bf35-ec1b2820a094",
   "metadata": {},
   "source": [
    "Final Linear Model\n",
    "$$\n",
    "Yhat = a + bX\n",
    "$$\n",
    "\n",
    "<b> Price </b> = 38423.3 - 821.73 * <b>highway-mpg</b>"
   ]
  },
  {
   "cell_type": "code",
   "execution_count": 20,
   "id": "53f52ae2-3341-4a24-a814-c2df80c660fb",
   "metadata": {},
   "outputs": [
    {
     "data": {
      "text/plain": [
       "LinearRegression()"
      ]
     },
     "execution_count": 20,
     "metadata": {},
     "output_type": "execute_result"
    }
   ],
   "source": [
    "lm1 = LinearRegression()\n",
    "lm1"
   ]
  },
  {
   "cell_type": "code",
   "execution_count": 21,
   "id": "488990cc-2847-4783-85b6-5aef720425a6",
   "metadata": {},
   "outputs": [
    {
     "data": {
      "text/plain": [
       "LinearRegression()"
      ]
     },
     "execution_count": 21,
     "metadata": {},
     "output_type": "execute_result"
    }
   ],
   "source": [
    "# Linear function with 'engine-size' and 'price'\n",
    "X1 = df[['engine-size']]\n",
    "Y1 = df['price']\n",
    "lm1.fit(X1,Y1)"
   ]
  },
  {
   "cell_type": "code",
   "execution_count": 23,
   "id": "2524ebbe-9802-4acb-b564-d095225ce8b1",
   "metadata": {},
   "outputs": [
    {
     "data": {
      "text/plain": [
       "array([13728.4631336 , 13728.4631336 , 17399.38347881, 10224.40280408,\n",
       "       14729.62322775])"
      ]
     },
     "execution_count": 23,
     "metadata": {},
     "output_type": "execute_result"
    }
   ],
   "source": [
    "Y1hat = lm1.predict(X1)\n",
    "Y1hat[0:5]"
   ]
  },
  {
   "cell_type": "code",
   "execution_count": 24,
   "id": "e4c37b74-abc7-4274-a847-0b52f8a09e5d",
   "metadata": {},
   "outputs": [
    {
     "data": {
      "text/plain": [
       "-7963.338906281046"
      ]
     },
     "execution_count": 24,
     "metadata": {},
     "output_type": "execute_result"
    }
   ],
   "source": [
    "lm1.intercept_"
   ]
  },
  {
   "cell_type": "code",
   "execution_count": 25,
   "id": "2fb5c9a3-656e-4bd8-af14-8fbc2c88c103",
   "metadata": {},
   "outputs": [
    {
     "data": {
      "text/plain": [
       "array([166.86001569])"
      ]
     },
     "execution_count": 25,
     "metadata": {},
     "output_type": "execute_result"
    }
   ],
   "source": [
    "lm1.coef_"
   ]
  },
  {
   "cell_type": "markdown",
   "id": "6f5ba609-8d3e-4b7c-b2b9-1fe7878cf8af",
   "metadata": {},
   "source": [
    "<p>Fianl Linear model</p>\n",
    "\n",
    "<b> Price </b> = -7963.33 + 166.86 * <b> engine-size</b>\n",
    "\n"
   ]
  },
  {
   "cell_type": "markdown",
   "id": "c112c0a5-b823-4f82-ab57-edf3102e2aa9",
   "metadata": {},
   "source": [
    "<h3> Multiple Linear Regression </h3>"
   ]
  },
  {
   "cell_type": "markdown",
   "id": "7d397f07-f251-4199-8ab5-c4241b260640",
   "metadata": {},
   "source": [
    "We use multiple Linear Regression when we want to use multiple predictor vairable to predict the value of response variable\n",
    "<p> We will use 'horsepower', 'engine-size', 'curb-weight', highway-mpg'.</p>"
   ]
  },
  {
   "cell_type": "code",
   "execution_count": 27,
   "id": "0885b902-01a9-409a-9529-5328fef95df2",
   "metadata": {},
   "outputs": [
    {
     "data": {
      "text/plain": [
       "LinearRegression()"
      ]
     },
     "execution_count": 27,
     "metadata": {},
     "output_type": "execute_result"
    }
   ],
   "source": [
    "Z = df[['horsepower','curb-weight', 'engine-size', 'highway-mpg']]\n",
    "lm.fit(Z, df['price'])"
   ]
  },
  {
   "cell_type": "code",
   "execution_count": 28,
   "id": "5e062099-d200-42a4-b22a-4980b0fd96c3",
   "metadata": {},
   "outputs": [
    {
     "data": {
      "text/plain": [
       "-15806.624626329194"
      ]
     },
     "execution_count": 28,
     "metadata": {},
     "output_type": "execute_result"
    }
   ],
   "source": [
    "lm.intercept_"
   ]
  },
  {
   "cell_type": "code",
   "execution_count": 29,
   "id": "b63fa7ef-1dab-4499-89be-18d1b75307f0",
   "metadata": {},
   "outputs": [
    {
     "data": {
      "text/plain": [
       "array([53.49574423,  4.70770099, 81.53026382, 36.05748882])"
      ]
     },
     "execution_count": 29,
     "metadata": {},
     "output_type": "execute_result"
    }
   ],
   "source": [
    "lm.coef_"
   ]
  },
  {
   "cell_type": "markdown",
   "id": "66021060-de8a-4056-b9e3-7e69938ea059",
   "metadata": {},
   "source": [
    "we should get a final linear function with the structure:\n",
    "\n",
    "$$\n",
    "Yhat = a + b\\_1 X\\_1 + b\\_2 X\\_2 + b\\_3 X\\_3 + b\\_4 X\\_4\n",
    "$$\n",
    "\n",
    "What is the linear function we get in this example?"
   ]
  },
  {
   "cell_type": "markdown",
   "id": "e9b5d904-3e03-4f40-8c14-62a2ef781d06",
   "metadata": {},
   "source": [
    "<b>Price</b> = -15678.742628061467 + 52.65851272 x <b>horsepower</b> + 4.69878948 x <b>curb-weight</b> + 81.95906216 x <b>engine-size</b> + 33.58258185 x <b>highway-mpg</b>\n"
   ]
  },
  {
   "cell_type": "markdown",
   "id": "a8c2c080-99e0-47ff-8a6e-341bfcd12ac8",
   "metadata": {},
   "source": [
    "<h3> 3. Model Evaluation using Visualizations </h3>"
   ]
  },
  {
   "cell_type": "markdown",
   "id": "f9ce7e87-9254-4367-947c-c388f1c90663",
   "metadata": {},
   "source": [
    "One of the methods for evaluating Models is by Visualizations"
   ]
  },
  {
   "cell_type": "code",
   "execution_count": 31,
   "id": "783439da-b04f-4471-88d2-a749740958e2",
   "metadata": {},
   "outputs": [],
   "source": [
    "#import viualizations package\n",
    "import seaborn as sns\n",
    "%matplotlib inline"
   ]
  },
  {
   "cell_type": "markdown",
   "id": "5a68654d-a652-4f76-9174-f96a9fa68d3f",
   "metadata": {},
   "source": [
    "<h4> Regression Plots </h4>\n",
    "Linear Regression models are best decribed in Regression plots"
   ]
  },
  {
   "cell_type": "markdown",
   "id": "9bd57dca-7685-4e18-8667-ed72f5583620",
   "metadata": {},
   "source": [
    "We will use scatter plot for visualizing 'highway-mpg'"
   ]
  },
  {
   "cell_type": "code",
   "execution_count": 35,
   "id": "cc6f11e0-0bbe-46b6-aab3-5be5795e8b8e",
   "metadata": {},
   "outputs": [
    {
     "data": {
      "text/plain": [
       "(0.0, 48157.45077290253)"
      ]
     },
     "execution_count": 35,
     "metadata": {},
     "output_type": "execute_result"
    },
    {
     "data": {
      "image/png": "[encoded data removed]",
      "text/plain": [
       "<Figure size 864x720 with 1 Axes>"
      ]
     },
     "metadata": {
      "needs_background": "light"
     },
     "output_type": "display_data"
    }
   ],
   "source": [
    "width = 12\n",
    "height = 10\n",
    "plt.figure(figsize=(width,height))\n",
    "sns.regplot(x = 'highway-mpg', y = 'price', data = df)\n",
    "plt.ylim(0,)"
   ]
  },
  {
   "cell_type": "markdown",
   "id": "cd0468d0-2cd2-4af1-804d-9fab3ce2d852",
   "metadata": {},
   "source": [
    "We can see a negative regression plot which means highway-mpg is negatively correlated with price"
   ]
  },
  {
   "cell_type": "code",
   "execution_count": 38,
   "id": "16f93cec-c8b1-4afe-a4af-abeef2432112",
   "metadata": {},
   "outputs": [
    {
     "data": {
      "text/plain": [
       "(0.0, 47414.1)"
      ]
     },
     "execution_count": 38,
     "metadata": {},
     "output_type": "execute_result"
    },
    {
     "data": {
      "image/png": "[encoded data removed]",
      "text/plain": [
       "<Figure size 864x720 with 1 Axes>"
      ]
     },
     "metadata": {
      "needs_background": "light"
     },
     "output_type": "display_data"
    }
   ],
   "source": [
    "# We will plot for peak-rpm\n",
    "plt.figure(figsize=(width, height))\n",
    "sns.regplot(x = 'peak-rpm', y = 'price', data = df)\n",
    "plt.ylim(0,)"
   ]
  },
  {
   "cell_type": "code",
   "execution_count": 39,
   "id": "cbca6b44-e09b-4b79-b6c8-05c283236648",
   "metadata": {},
   "outputs": [
    {
     "data": {
      "text/html": [
       "<div>\n",
       "<style scoped>\n",
       "    .dataframe tbody tr th:only-of-type {\n",
       "        vertical-align: middle;\n",
       "    }\n",
       "\n",
       "    .dataframe tbody tr th {\n",
       "        vertical-align: top;\n",
       "    }\n",
       "\n",
       "    .dataframe thead th {\n",
       "        text-align: right;\n",
       "    }\n",
       "</style>\n",
       "<table border=\"1\" class=\"dataframe\">\n",
       "  <thead>\n",
       "    <tr style=\"text-align: right;\">\n",
       "      <th></th>\n",
       "      <th>highway-mpg</th>\n",
       "      <th>peak-rpm</th>\n",
       "      <th>price</th>\n",
       "    </tr>\n",
       "  </thead>\n",
       "  <tbody>\n",
       "    <tr>\n",
       "      <th>highway-mpg</th>\n",
       "      <td>1.000000</td>\n",
       "      <td>-0.058598</td>\n",
       "      <td>-0.704692</td>\n",
       "    </tr>\n",
       "    <tr>\n",
       "      <th>peak-rpm</th>\n",
       "      <td>-0.058598</td>\n",
       "      <td>1.000000</td>\n",
       "      <td>-0.101616</td>\n",
       "    </tr>\n",
       "    <tr>\n",
       "      <th>price</th>\n",
       "      <td>-0.704692</td>\n",
       "      <td>-0.101616</td>\n",
       "      <td>1.000000</td>\n",
       "    </tr>\n",
       "  </tbody>\n",
       "</table>\n",
       "</div>"
      ],
      "text/plain": [
       "             highway-mpg  peak-rpm     price\n",
       "highway-mpg     1.000000 -0.058598 -0.704692\n",
       "peak-rpm       -0.058598  1.000000 -0.101616\n",
       "price          -0.704692 -0.101616  1.000000"
      ]
     },
     "execution_count": 39,
     "metadata": {},
     "output_type": "execute_result"
    }
   ],
   "source": [
    "df[[\"highway-mpg\",\"peak-rpm\",\"price\"]].corr()"
   ]
  },
  {
   "cell_type": "markdown",
   "id": "564bf31e-1bfc-4731-b750-724eb757fd31",
   "metadata": {},
   "source": [
    "<h4> Residual Plot</h4>"
   ]
  },
  {
   "cell_type": "markdown",
   "id": "8b5267bf-8f97-4da9-8980-4720c9aa6577",
   "metadata": {},
   "source": [
    "<b>Residual = </b> The differnece between the predicted value(yhat) and the response value(y) is called residual(e). In a regression plot, the distance between the data points to the fitted regression lines is called residual"
   ]
  },
  {
   "cell_type": "markdown",
   "id": "6534235b-196b-47f9-93a5-119aa62cb95b",
   "metadata": {},
   "source": [
    "<p>A residual plot is a graph that shows the residuals on the vertical y-axis and the independent variable on the horizontal x-axis.</p>\n",
    "\n",
    "<p>What do we pay attention to when looking at a residual plot?</p>\n",
    "\n",
    "<p>We look at the spread of the residuals:</p>\n",
    "\n",
    "<p>- If the points in a residual plot are <b>randomly spread out around the x-axis</b>, then a <b>linear model is appropriate</b> for the data.\n",
    "\n",
    "Why is that? Randomly spread out residuals means that the variance is constant, and thus the linear model is a good fit for this data.</p>"
   ]
  },
  {
   "cell_type": "code",
   "execution_count": 42,
   "id": "c6235ae6-d6c3-4753-b375-46e854f4c07e",
   "metadata": {},
   "outputs": [
    {
     "data": {
      "image/png": "[encoded data removed]",
      "text/plain": [
       "<Figure size 864x720 with 1 Axes>"
      ]
     },
     "metadata": {
      "needs_background": "light"
     },
     "output_type": "display_data"
    }
   ],
   "source": [
    "width = 12\n",
    "height = 10\n",
    "plt.figure(figsize=(width, height))\n",
    "sns.residplot(x= df['highway-mpg'], y = df['price'])\n",
    "plt.show()"
   ]
  },
  {
   "cell_type": "markdown",
   "id": "c8992f37-2adb-436b-9540-ff30e7001520",
   "metadata": {},
   "source": [
    "As we can see the residuals are not randomly spreads along the x axis, we can say that maybe a non-linear plot is more appropriate for the data"
   ]
  },
  {
   "cell_type": "markdown",
   "id": "c0904420-ce0c-40a5-83b0-0447fc7c5af6",
   "metadata": {},
   "source": [
    "<h4> Multiple Linear Regression </h4>"
   ]
  },
  {
   "cell_type": "markdown",
   "id": "7b992e22-5925-44e2-bc14-1345c039108b",
   "metadata": {},
   "source": [
    "One way to look ay the fit of the moodel is by distributions plots. We can look at the distribution of fitted values from the model and compare it with the values of the distributions of actual model"
   ]
  },
  {
   "cell_type": "code",
   "execution_count": 47,
   "id": "2e645fba-32d7-48cd-a759-f9283f0a5cb6",
   "metadata": {},
   "outputs": [
    {
     "data": {
      "text/plain": [
       "array([13699.11161184, 13699.11161184, 19051.65470233, 10620.36193015,\n",
       "       15521.31420211])"
      ]
     },
     "execution_count": 47,
     "metadata": {},
     "output_type": "execute_result"
    }
   ],
   "source": [
    "Yhat = lm.predict(Z)\n",
    "Yhat[0:5]"
   ]
  },
  {
   "cell_type": "code",
   "execution_count": 51,
   "id": "dfd4259a-0035-4a6d-a257-a9ec4f579279",
   "metadata": {},
   "outputs": [
    {
     "name": "stderr",
     "output_type": "stream",
     "text": [
      "C:\\Users\\ENVY\\anaconda3\\lib\\site-packages\\seaborn\\distributions.py:2619: FutureWarning: `distplot` is a deprecated function and will be removed in a future version. Please adapt your code to use either `displot` (a figure-level function with similar flexibility) or `histplot` (an axes-level function for histograms).\n",
      "  warnings.warn(msg, FutureWarning)\n",
      "C:\\Users\\ENVY\\anaconda3\\lib\\site-packages\\seaborn\\distributions.py:2619: FutureWarning: `distplot` is a deprecated function and will be removed in a future version. Please adapt your code to use either `displot` (a figure-level function with similar flexibility) or `histplot` (an axes-level function for histograms).\n",
      "  warnings.warn(msg, FutureWarning)\n"
     ]
    },
    {
     "data": {
      "image/png": "[encoded data removed]",
      "text/plain": [
       "<Figure size 864x720 with 1 Axes>"
      ]
     },
     "metadata": {
      "needs_background": "light"
     },
     "output_type": "display_data"
    }
   ],
   "source": [
    "plt.figure(figsize=(width,height))\n",
    "ax1 = sns.distplot( df['price'] color=\"r\", label=\" Actual Value\")\n",
    "sns.distplot(Yhat, color=\"b\", label= \" Fitted Values\")\n",
    "\n",
    "plt.title('Actual Vs Fitted Values for Price')\n",
    "plt.xlabel('Price(in Dollars)')\n",
    "plt.ylabel(' Proportions of Cars')\n",
    "plt.show()\n",
    "plt.close()"
   ]
  },
  {
   "cell_type": "markdown",
   "id": "38e0bd12-37a7-4565-be8e-0a7e7e0e1efd",
   "metadata": {},
   "source": [
    "<h3> Polynomial Regression </h3>"
   ]
  },
  {
   "cell_type": "code",
   "execution_count": 53,
   "id": "a695d17d-59cb-425f-9ef1-3e7b9a89ce86",
   "metadata": {},
   "outputs": [],
   "source": [
    "def Plotpolly(model, i_variabele, d_variable, Name):\n",
    "    x_new = np.linspace(15,55,100)\n",
    "    y_new = model(x_new)\n",
    "    \n",
    "    plt.plot(i_variabele, d_variable, '.', x_new, y_new, '-')\n",
    "    plt.title(\"Polynomial plot with Matplotlib for Price ~ Length\")\n",
    "    ax = plt.gca()\n",
    "    ax.set_facecolor((0.898,0.898,0.898))\n",
    "    fig = plt.gcf()\n",
    "    plt.xlabel(Name)\n",
    "    plt.ylabel('Price of Cars')\n",
    "    \n",
    "    plt.show()\n",
    "    plt.close()"
   ]
  },
  {
   "cell_type": "code",
   "execution_count": 57,
   "id": "26171656-aa39-4afc-8fc1-829e058fe9bd",
   "metadata": {},
   "outputs": [
    {
     "name": "stdout",
     "output_type": "stream",
     "text": [
      "        3         2\n",
      "-1.557 x + 204.8 x - 8965 x + 1.379e+05\n"
     ]
    }
   ],
   "source": [
    "# let het the variables\n",
    "x = df['highway-mpg']\n",
    "y = df['price']\n",
    "\n",
    "f = np.polyfit(x, y, 3)\n",
    "p = np.poly1d(f)\n",
    "print(p)"
   ]
  },
  {
   "cell_type": "code",
   "execution_count": 58,
   "id": "241a158e-87e7-48cb-8dd9-b764971097be",
   "metadata": {},
   "outputs": [
    {
     "data": {
      "image/png": "[encoded data removed]",
      "text/plain": [
       "<Figure size 432x288 with 1 Axes>"
      ]
     },
     "metadata": {
      "needs_background": "light"
     },
     "output_type": "display_data"
    }
   ],
   "source": [
    "# Lets plot the function\n",
    "Plotpolly(p, x, y, 'highway-mpg')"
   ]
  },
  {
   "cell_type": "code",
   "execution_count": 59,
   "id": "7c1ffa86-1831-47e4-86c5-5fd4beed0a03",
   "metadata": {},
   "outputs": [
    {
     "data": {
      "text/plain": [
       "array([-1.55663829e+00,  2.04754306e+02, -8.96543312e+03,  1.37923594e+05])"
      ]
     },
     "execution_count": 59,
     "metadata": {},
     "output_type": "execute_result"
    }
   ],
   "source": [
    "np.polyfit(x, y, 3)"
   ]
  },
  {
   "cell_type": "code",
   "execution_count": 60,
   "id": "bbfe3f6e-ec7a-4da0-8375-8970cc361474",
   "metadata": {},
   "outputs": [
    {
     "name": "stdout",
     "output_type": "stream",
     "text": [
      "            11             10             9           8         7\n",
      "-1.243e-08 x  + 4.722e-06 x  - 0.0008028 x + 0.08056 x - 5.297 x\n",
      "          6        5             4             3             2\n",
      " + 239.5 x - 7588 x + 1.684e+05 x - 2.565e+06 x + 2.551e+07 x - 1.491e+08 x + 3.879e+08\n"
     ]
    }
   ],
   "source": [
    "f1 = np.polyfit(x, y, 11)\n",
    "p1 = np.poly1d(f1)\n",
    "print(p1)"
   ]
  },
  {
   "cell_type": "code",
   "execution_count": 61,
   "id": "c9489de5-c0a7-4360-826a-d2920fc363fc",
   "metadata": {},
   "outputs": [
    {
     "data": {
      "image/png": "[encoded data removed]",
      "text/plain": [
       "<Figure size 432x288 with 1 Axes>"
      ]
     },
     "metadata": {
      "needs_background": "light"
     },
     "output_type": "display_data"
    }
   ],
   "source": [
    "Plotpolly(p1, x, y, 'highway-mpg')"
   ]
  },
  {
   "cell_type": "markdown",
   "id": "e4f4fd0d-df1a-403e-87aa-b4380f6acdb0",
   "metadata": {},
   "source": [
    "<p>The analytical expression for Multivariate Polynomial function gets complicated. For example, the expression for a second-order (degree=2) polynomial with two variables is given by:</p>\n",
    "\n",
    "$$\n",
    "Yhat = a + b\\_1 X\\_1 +b\\_2 X\\_2 +b\\_3 X\\_1 X\\_2+b\\_4 X\\_1^2+b\\_5 X\\_2^2\n",
    "$$\n"
   ]
  },
  {
   "cell_type": "code",
   "execution_count": 62,
   "id": "4b934ec6-a4cb-4dc1-b3b1-68ed1bc9d3b8",
   "metadata": {},
   "outputs": [],
   "source": [
    "from sklearn.preprocessing import PolynomialFeatures"
   ]
  },
  {
   "cell_type": "code",
   "execution_count": 63,
   "id": "8a342abe-a87d-4bcb-bed8-a9c067c33235",
   "metadata": {},
   "outputs": [
    {
     "data": {
      "text/plain": [
       "PolynomialFeatures()"
      ]
     },
     "execution_count": 63,
     "metadata": {},
     "output_type": "execute_result"
    }
   ],
   "source": [
    "pr = PolynomialFeatures(degree=2)\n",
    "pr"
   ]
  },
  {
   "cell_type": "code",
   "execution_count": 64,
   "id": "62f2ad5e-dab3-4ab8-bffe-a5012cef3366",
   "metadata": {},
   "outputs": [],
   "source": [
    "Z_pr = pr.fit_transform(Z)"
   ]
  },
  {
   "cell_type": "code",
   "execution_count": 65,
   "id": "aae9e88c-4c47-415e-9162-abab7e816fc1",
   "metadata": {},
   "outputs": [
    {
     "data": {
      "text/plain": [
       "(201, 4)"
      ]
     },
     "execution_count": 65,
     "metadata": {},
     "output_type": "execute_result"
    }
   ],
   "source": [
    "Z.shape"
   ]
  },
  {
   "cell_type": "code",
   "execution_count": 67,
   "id": "6b0e028c-5ab8-46cd-a5b7-128b0247593b",
   "metadata": {},
   "outputs": [
    {
     "data": {
      "text/plain": [
       "(201, 15)"
      ]
     },
     "execution_count": 67,
     "metadata": {},
     "output_type": "execute_result"
    }
   ],
   "source": [
    "Z_pr.shape"
   ]
  },
  {
   "cell_type": "markdown",
   "id": "ab74f2fa-0713-4d78-b3fb-2d36b37abb35",
   "metadata": {},
   "source": [
    "Data Pipelines simplifies the steps for processing the data"
   ]
  },
  {
   "cell_type": "code",
   "execution_count": 68,
   "id": "98e37b3c-961e-47db-89dd-490b195b6902",
   "metadata": {},
   "outputs": [],
   "source": [
    "from sklearn.pipeline import Pipeline\n",
    "from sklearn.preprocessing import StandardScaler"
   ]
  },
  {
   "cell_type": "markdown",
   "id": "554ca282-287d-43c6-8744-20582af37487",
   "metadata": {},
   "source": [
    "We create the pipeline by creating a list of tuples including the name of the model or estimator and its corresponding constructor.\n"
   ]
  },
  {
   "cell_type": "code",
   "execution_count": 69,
   "id": "e6e9d1ee-6c4f-4ee4-87d5-afa3ff681afb",
   "metadata": {},
   "outputs": [],
   "source": [
    "Input = [('scale', StandardScaler()),('polynomial', PolynomialFeatures(include_bias= False)),('model', LinearRegression())]"
   ]
  },
  {
   "cell_type": "code",
   "execution_count": 70,
   "id": "b0bdde0f-1d2c-47b6-a73f-747a4bd4c05b",
   "metadata": {},
   "outputs": [
    {
     "data": {
      "text/plain": [
       "Pipeline(steps=[('scale', StandardScaler()),\n",
       "                ('polynomial', PolynomialFeatures(include_bias=False)),\n",
       "                ('model', LinearRegression())])"
      ]
     },
     "execution_count": 70,
     "metadata": {},
     "output_type": "execute_result"
    }
   ],
   "source": [
    "pipe = Pipeline(Input)\n",
    "pipe"
   ]
  },
  {
   "cell_type": "code",
   "execution_count": 71,
   "id": "736d45b0-050a-462c-8cfa-17a94a995953",
   "metadata": {},
   "outputs": [
    {
     "data": {
      "text/plain": [
       "Pipeline(steps=[('scale', StandardScaler()),\n",
       "                ('polynomial', PolynomialFeatures(include_bias=False)),\n",
       "                ('model', LinearRegression())])"
      ]
     },
     "execution_count": 71,
     "metadata": {},
     "output_type": "execute_result"
    }
   ],
   "source": [
    "Z = Z.astype(float)\n",
    "pipe.fit(Z,y)"
   ]
  },
  {
   "cell_type": "code",
   "execution_count": 72,
   "id": "5865a0e6-c882-4542-a405-30d29c1f9852",
   "metadata": {},
   "outputs": [
    {
     "data": {
      "text/plain": [
       "array([13102.74784201, 13102.74784201, 18225.54572197, 10390.29636555])"
      ]
     },
     "execution_count": 72,
     "metadata": {},
     "output_type": "execute_result"
    }
   ],
   "source": [
    "ypipe = pipe.predict(Z)\n",
    "ypipe[0:4]"
   ]
  },
  {
   "cell_type": "markdown",
   "id": "59b4ea2b-1072-4dd0-8fef-30f6b608c4f8",
   "metadata": {},
   "source": [
    "<h4> Measure of Simple Linear Regression Model</h4>"
   ]
  },
  {
   "cell_type": "markdown",
   "id": "448bf44a-964c-46cc-ba4c-4aa08542a8f9",
   "metadata": {},
   "source": [
    "Measures to identify the accuracy of the Models\n",
    "<ul>\n",
    "    <li><b> Mean Squared Errors</b></li>\n",
    "    <li><b> R Squared </b></li>\n",
    "</ul>    "
   ]
  },
  {
   "cell_type": "markdown",
   "id": "dc455033-6d5c-4559-b1ae-499646861026",
   "metadata": {},
   "source": [
    "<b>Mean Squared Error</b> - It measures the average of the squared of errors i.e the difference between the actual value and the estimated values"
   ]
  },
  {
   "cell_type": "markdown",
   "id": "ddd2d7d7-211a-493e-a791-29ab1e4701ee",
   "metadata": {},
   "source": [
    "<b>R Squared</b> also known as the coefficient of determinations, Its a measure to indicate how close the data is to the fitted regression Line."
   ]
  },
  {
   "cell_type": "code",
   "execution_count": 73,
   "id": "8feed13a-63cd-403b-897d-65e821a5713a",
   "metadata": {},
   "outputs": [
    {
     "name": "stdout",
     "output_type": "stream",
     "text": [
      "The R Squared value is -  0.4965911884339176\n"
     ]
    }
   ],
   "source": [
    "# Simple Regression Line\n",
    "lm.fit(X,Y)\n",
    "print(\"The R Squared value is - \", lm.score(X,Y))"
   ]
  },
  {
   "cell_type": "code",
   "execution_count": 74,
   "id": "0df3fad6-7e36-4066-b2c4-1c694dc29b2b",
   "metadata": {},
   "outputs": [
    {
     "name": "stdout",
     "output_type": "stream",
     "text": [
      "The Outpput of first 4 predicted values is -  [16236.50464347 16236.50464347 17058.23802179 13771.3045085 ]\n"
     ]
    }
   ],
   "source": [
    "Yhat = lm.predict(X)\n",
    "print(\"The Outpput of first 4 predicted values is - \",Yhat[0:4])"
   ]
  },
  {
   "cell_type": "code",
   "execution_count": 75,
   "id": "6d4afdec-d49a-40eb-9abb-201241af90d4",
   "metadata": {},
   "outputs": [],
   "source": [
    "from sklearn.metrics import mean_squared_error"
   ]
  },
  {
   "cell_type": "code",
   "execution_count": 76,
   "id": "05628572-122d-48f9-87b3-10ba10be8171",
   "metadata": {},
   "outputs": [
    {
     "name": "stdout",
     "output_type": "stream",
     "text": [
      "the mean squared error of the price and the predicted value is  31635042.944639888\n"
     ]
    }
   ],
   "source": [
    "mse = mean_squared_error(df['price'],Yhat)\n",
    "print(\"the mean squared error of the price and the predicted value is \", mse)"
   ]
  },
  {
   "cell_type": "code",
   "execution_count": 78,
   "id": "6c2d2a43-2a3d-4753-a552-28729ec74b17",
   "metadata": {},
   "outputs": [
    {
     "name": "stdout",
     "output_type": "stream",
     "text": [
      "Rsquared 0.8093562806577457\n"
     ]
    }
   ],
   "source": [
    "# Multiple Regression Models\n",
    "lm.fit(Z, df['price'])\n",
    "print(\"Rsquared\", lm.score(Z,df['price']))"
   ]
  },
  {
   "cell_type": "code",
   "execution_count": 79,
   "id": "8eacc083-c9ae-4b54-aaae-5fde60536d41",
   "metadata": {},
   "outputs": [],
   "source": [
    "Y_pre_multifit = lm.predict(Z)"
   ]
  },
  {
   "cell_type": "code",
   "execution_count": 87,
   "id": "9bac9ded-9b6f-4941-a3bf-96da0aea776b",
   "metadata": {},
   "outputs": [
    {
     "name": "stdout",
     "output_type": "stream",
     "text": [
      "Mean Squared Error value and Predicted Values 11980366.87072649\n"
     ]
    }
   ],
   "source": [
    "print(\"Mean Squared Error value and Predicted Values\",\\\n",
    "      mean_squared_error(df['price'],Y_pre_multifit))"
   ]
  },
  {
   "cell_type": "code",
   "execution_count": 88,
   "id": "e7169c3f-d1d1-4df0-97d3-981a0abd2e61",
   "metadata": {},
   "outputs": [],
   "source": [
    "# Polynomila Regression Model\n",
    "from sklearn.metrics import r2_score"
   ]
  },
  {
   "cell_type": "code",
   "execution_count": 90,
   "id": "b1027489-1a74-4cc6-a4da-1d04bf22855f",
   "metadata": {},
   "outputs": [
    {
     "name": "stdout",
     "output_type": "stream",
     "text": [
      "RSquared =  0.674194666390652\n"
     ]
    }
   ],
   "source": [
    "r_squared = r2_score(y, p(x))\n",
    "print(\"RSquared = \",r_squared)"
   ]
  },
  {
   "cell_type": "code",
   "execution_count": 91,
   "id": "9c1acef5-a243-4510-8c55-f6b522c2ab21",
   "metadata": {},
   "outputs": [
    {
     "data": {
      "text/plain": [
       "20474146.426361207"
      ]
     },
     "execution_count": 91,
     "metadata": {},
     "output_type": "execute_result"
    }
   ],
   "source": [
    "mean_squared_error(df['price'],p(x))"
   ]
  },
  {
   "cell_type": "markdown",
   "id": "57271f43-0d9b-4c76-bd9b-fb331f503e88",
   "metadata": {},
   "source": [
    "<h3> Desicion Making - Determining a Good Fit Model</h3>"
   ]
  },
  {
   "cell_type": "markdown",
   "id": "65edec3a-7e35-44c7-897b-cd9a4fbe1892",
   "metadata": {},
   "source": [
    "Good Fit Model >> High RSquared Value & Less Mean Squared Error"
   ]
  },
  {
   "cell_type": "markdown",
   "id": "11de382e-eef3-48b1-a013-12b642e88fe6",
   "metadata": {},
   "source": [
    "<h3> Conslusion </h3>"
   ]
  },
  {
   "cell_type": "markdown",
   "id": "4bc1e4f3-f904-456a-bb38-6343888b77e0",
   "metadata": {},
   "source": [
    "<p>Comparing these three models, we conclude that <b>the MLR model is the best model</b> to be able to predict price from our dataset. This result makes sense since we have 27 variables in total and we know that more than one of those variables are potential predictors of the final car price.</p>"
   ]
  },
  {
   "cell_type": "code",
   "execution_count": null,
   "id": "ab0525f1-8c7c-4a29-bb1a-3b4f40b54c16",
   "metadata": {},
   "outputs": [],
   "source": []
  }
 ],
 "metadata": {
  "kernelspec": {
   "display_name": "Python 3 (ipykernel)",
   "language": "python",
   "name": "python3"
  },
  "language_info": {
   "codemirror_mode": {
    "name": "ipython",
    "version": 3
   },
   "file_extension": ".py",
   "mimetype": "text/x-python",
   "name": "python",
   "nbconvert_exporter": "python",
   "pygments_lexer": "ipython3",
   "version": "3.9.12"
  }
 },
 "nbformat": 4,
 "nbformat_minor": 5
}
